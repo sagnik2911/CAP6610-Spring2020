{
  "nbformat": 4,
  "nbformat_minor": 0,
  "metadata": {
    "colab": {
      "name": "Assignment III Reg 10.ipynb",
      "provenance": [],
      "collapsed_sections": []
    },
    "kernelspec": {
      "name": "python3",
      "display_name": "Python 3"
    }
  },
  "cells": [
    {
      "cell_type": "code",
      "metadata": {
        "id": "Tu6YAx-nJKOK",
        "colab_type": "code",
        "outputId": "bfa322a0-3939-48e6-b973-90aa681915e5",
        "colab": {
          "base_uri": "https://localhost:8080/",
          "height": 131
        }
      },
      "source": [
        "import tensorflow as tf\n",
        "(x_train, y_train), (x_test, y_test) = tf.keras.datasets.mnist.load_data()\n",
        "print(x_test.shape)\n",
        "print(x_train.shape)"
      ],
      "execution_count": 1,
      "outputs": [
        {
          "output_type": "display_data",
          "data": {
            "text/html": [
              "<p style=\"color: red;\">\n",
              "The default version of TensorFlow in Colab will soon switch to TensorFlow 2.x.<br>\n",
              "We recommend you <a href=\"https://www.tensorflow.org/guide/migrate\" target=\"_blank\">upgrade</a> now \n",
              "or ensure your notebook will continue to use TensorFlow 1.x via the <code>%tensorflow_version 1.x</code> magic:\n",
              "<a href=\"https://colab.research.google.com/notebooks/tensorflow_version.ipynb\" target=\"_blank\">more info</a>.</p>\n"
            ],
            "text/plain": [
              "<IPython.core.display.HTML object>"
            ]
          },
          "metadata": {
            "tags": []
          }
        },
        {
          "output_type": "stream",
          "text": [
            "Downloading data from https://storage.googleapis.com/tensorflow/tf-keras-datasets/mnist.npz\n",
            "11493376/11490434 [==============================] - 0s 0us/step\n",
            "(10000, 28, 28)\n",
            "(60000, 28, 28)\n"
          ],
          "name": "stdout"
        }
      ]
    },
    {
      "cell_type": "code",
      "metadata": {
        "id": "guNy1KLCKbYk",
        "colab_type": "code",
        "outputId": "31cc03b6-ee70-4a9c-ca4d-da8acc2b3145",
        "colab": {
          "base_uri": "https://localhost:8080/",
          "height": 265
        }
      },
      "source": [
        "import numpy as np\n",
        "from matplotlib import pyplot as plt\n",
        "%matplotlib inline \n",
        "plt.imshow(x_train[1], interpolation='nearest')\n",
        "plt.show()"
      ],
      "execution_count": 2,
      "outputs": [
        {
          "output_type": "display_data",
          "data": {
            "image/png": "[encoded data removed]",
            "text/plain": [
              "<Figure size 432x288 with 1 Axes>"
            ]
          },
          "metadata": {
            "tags": []
          }
        }
      ]
    },
    {
      "cell_type": "code",
      "metadata": {
        "id": "_FIJcsUMKu3f",
        "colab_type": "code",
        "outputId": "a5fec006-b78c-4f0b-c555-07d643a2dd64",
        "colab": {
          "base_uri": "https://localhost:8080/",
          "height": 34
        }
      },
      "source": [
        "x_train = np.array(x_train)\n",
        "x_test = np.array(x_test)\n",
        "x_train.shape"
      ],
      "execution_count": 3,
      "outputs": [
        {
          "output_type": "execute_result",
          "data": {
            "text/plain": [
              "(60000, 28, 28)"
            ]
          },
          "metadata": {
            "tags": []
          },
          "execution_count": 3
        }
      ]
    },
    {
      "cell_type": "code",
      "metadata": {
        "id": "gq1g2G2LK09O",
        "colab_type": "code",
        "outputId": "c5b63ba8-31b5-4cdf-f4a8-c0149e6a39ba",
        "colab": {
          "base_uri": "https://localhost:8080/",
          "height": 51
        }
      },
      "source": [
        "x_train_flat = x_train.reshape(x_train.shape[0], -1)\n",
        "x_train_flat = x_train_flat.astype(float)\n",
        "x_test_flat = x_test.reshape(x_test.shape[0], -1)\n",
        "x_test_flat = x_test_flat.astype(float)\n",
        "mean_image = np.mean(x_train_flat, axis=0)\n",
        "x_train_flat -= mean_image\n",
        "x_test_flat -= mean_image\n",
        "print (\"train_set_x_flatten shape: \" + str(x_train_flat.shape))\n",
        "print (\"test_set_x_flatten shape: \" + str(x_test_flat.shape))"
      ],
      "execution_count": 24,
      "outputs": [
        {
          "output_type": "stream",
          "text": [
            "train_set_x_flatten shape: (60000, 784)\n",
            "test_set_x_flatten shape: (10000, 784)\n"
          ],
          "name": "stdout"
        }
      ]
    },
    {
      "cell_type": "code",
      "metadata": {
        "id": "gE9tLDr_Vxz8",
        "colab_type": "code",
        "colab": {}
      },
      "source": [
        "dimR = 784\n",
        "dimC = 10\n",
        "W = np.zeros((dimR,dimC))\n",
        "lamda = 10\n",
        "max_iter = 1000000"
      ],
      "execution_count": 0,
      "outputs": []
    },
    {
      "cell_type": "code",
      "metadata": {
        "id": "TLBzLPc2gSZN",
        "colab_type": "code",
        "colab": {}
      },
      "source": [
        "def block_soft_threshold(W,mu):\n",
        "    for i in range(0,W.shape[0]):\n",
        "      l2norm = np.linalg.norm(W[i][:])\n",
        "      if l2norm == 0:\n",
        "        continue;\n",
        "      W[i][:] = np.multiply(W[i][:]/ l2norm,np.maximum(l2norm - mu, 0))\n",
        "    return W"
      ],
      "execution_count": 0,
      "outputs": []
    },
    {
      "cell_type": "code",
      "metadata": {
        "id": "bC4gNQVCIuZd",
        "colab_type": "code",
        "colab": {}
      },
      "source": [
        "def svm_naive(W, X, y, reg,i):\n",
        "    \"\"\"\n",
        "    This function implementation has been taken from the cs231n course of Stanford\n",
        "    The algorithm has been elaborated at the following link\n",
        "    http://cs231n.github.io/optimization-1/\n",
        "    \"\"\"\n",
        "    dW = np.zeros(W.shape) # initialize the gradient as zero\n",
        "\n",
        "    # Compute the loss and the gradient.\n",
        "    num_classes = W.shape[1]\n",
        "    num_train = X.shape[0]\n",
        "    scores = X[i].dot(W) \n",
        "    correct_class_score = scores[y[i]]\n",
        "\n",
        "    # Iterate over incorrect classes.\n",
        "    for j in range(num_classes):\n",
        "        if j == y[i]:\n",
        "            continue\n",
        "        # If margin is met, accumulate loss for the jth example \n",
        "        # and calculate associated gradient. \n",
        "        margin = scores[j] - correct_class_score + 1 # note delta = 1\n",
        "        if margin > 0:\n",
        "            #loss += margin\n",
        "\n",
        "            # dL/dwj = xi (if margin satisfied); \n",
        "            dW[:,j] += X[i,:] \n",
        "            \n",
        "            # dL/dwyi = xi (if margin satisfied); \n",
        "            dW[:,y[i]] -= X[i,:] \n",
        "    return dW"
      ],
      "execution_count": 0,
      "outputs": []
    },
    {
      "cell_type": "code",
      "metadata": {
        "id": "_K1gh3p9z9P3",
        "colab_type": "code",
        "colab": {}
      },
      "source": [
        "def error_calculate(W):\n",
        "    error = 0\n",
        "    for i in range(0, len(x_test_flat)):\n",
        "        x_i = x_test_flat[i]\n",
        "        max_val = -1\n",
        "        max_i = 10\n",
        "        for digit in range(0,10):\n",
        "            res = np.dot(x_i.T, W[:,digit])\n",
        "            if(res>max_val):\n",
        "                max_val = res\n",
        "                max_i = digit\n",
        "        if(max_i!=y_test[i]):\n",
        "            error+=1\n",
        "    return 100*error/len(x_test_flat)"
      ],
      "execution_count": 0,
      "outputs": []
    },
    {
      "cell_type": "code",
      "metadata": {
        "id": "C_8PEZBHSCt5",
        "colab_type": "code",
        "colab": {}
      },
      "source": [
        "y_train = np.array(y_train)\n",
        "y_train_flat = y_train.reshape(y_train.shape[0], -1)\n",
        "data = [[] for y in range(10)]\n",
        "for index in range(0, len(y_train_flat)):\n",
        "  val = y_train_flat[index][0]\n",
        "  data[val].append(index)"
      ],
      "execution_count": 0,
      "outputs": []
    },
    {
      "cell_type": "code",
      "metadata": {
        "id": "14qLEjggLtID",
        "colab_type": "code",
        "colab": {
          "base_uri": "https://localhost:8080/",
          "height": 204
        },
        "outputId": "cd3b057f-8f42-4b00-f14a-aaa57fa02e0c"
      },
      "source": [
        "import random\n",
        "W = np.zeros((dimR,dimC))\n",
        "dW = np.zeros(W.shape)\n",
        "error_PG = []\n",
        "\n",
        "for t in range(1, max_iter+1):\n",
        "    for i in range(0,10):\n",
        "      rand_index = data[i][random.randrange(len(data[i]))]\n",
        "      dW = svm_naive(W,x_train_flat, y_train, 1,rand_index)\n",
        "      W = W - (1/t)* dW\n",
        "    W = block_soft_threshold(W,lamda/t)\n",
        "    if (t%1000 == 0 or t == 1):\n",
        "            error = error_calculate(W)\n",
        "            error_PG.append(error)\n",
        "    if (t%100000 == 0 or t == 1):\n",
        "            print('iter= {},\\errorRate= {:3f}'.format(t,error))\n"
      ],
      "execution_count": 26,
      "outputs": [
        {
          "output_type": "stream",
          "text": [
            "iter= 1,\\errorRate= 58.460000\n",
            "iter= 100000,\\errorRate= 23.170000\n",
            "iter= 200000,\\errorRate= 22.480000\n",
            "iter= 300000,\\errorRate= 22.020000\n",
            "iter= 400000,\\errorRate= 21.740000\n",
            "iter= 500000,\\errorRate= 21.560000\n",
            "iter= 600000,\\errorRate= 21.410000\n",
            "iter= 700000,\\errorRate= 21.260000\n",
            "iter= 800000,\\errorRate= 21.150000\n",
            "iter= 900000,\\errorRate= 21.040000\n",
            "iter= 1000000,\\errorRate= 20.930000\n"
          ],
          "name": "stdout"
        }
      ]
    },
    {
      "cell_type": "code",
      "metadata": {
        "id": "r3mCqnd6WZw3",
        "colab_type": "code",
        "colab": {
          "base_uri": "https://localhost:8080/",
          "height": 297
        },
        "outputId": "0e91e58f-bee8-476f-f7fe-4c7ceaae892e"
      },
      "source": [
        "t = np.arange(0, 1001)\n",
        "plt.semilogy(t, np.array(error_PG), 'b', linewidth = 2, label = 'Proximal Stochiastic Gradient lambda = 10')\n",
        "plt.legend(prop={'size':12})\n",
        "plt.xlabel('Iteration (10^3)')\n",
        "plt.ylabel('Prediction error')"
      ],
      "execution_count": 32,
      "outputs": [
        {
          "output_type": "execute_result",
          "data": {
            "text/plain": [
              "Text(0, 0.5, 'Prediction error')"
            ]
          },
          "metadata": {
            "tags": []
          },
          "execution_count": 32
        },
        {
          "output_type": "display_data",
          "data": {
            "image/png": "[encoded data removed]",
            "text/plain": [
              "<Figure size 432x288 with 1 Axes>"
            ]
          },
          "metadata": {
            "tags": []
          }
        }
      ]
    },
    {
      "cell_type": "code",
      "metadata": {
        "id": "Am5R8qAHODWy",
        "colab_type": "code",
        "colab": {
          "base_uri": "https://localhost:8080/",
          "height": 265
        },
        "outputId": "25df7027-2359-450f-fe9e-b74dbd3fee9e"
      },
      "source": [
        "weight_sum = np.sum(W,axis = 1)/10\n",
        "image = np.reshape(weight_sum,(28,28))\n",
        "plt.imshow(image,cmap = 'gray', interpolation= 'nearest')\n",
        "plt.show()"
      ],
      "execution_count": 37,
      "outputs": [
        {
          "output_type": "display_data",
          "data": {
            "image/png": "[encoded data removed]",
            "text/plain": [
              "<Figure size 432x288 with 1 Axes>"
            ]
          },
          "metadata": {
            "tags": []
          }
        }
      ]
    },
    {
      "cell_type": "code",
      "metadata": {
        "id": "zCfeyJFPTjxV",
        "colab_type": "code",
        "colab": {
          "base_uri": "https://localhost:8080/",
          "height": 34
        },
        "outputId": "8657d3f8-592b-495d-f056-a04d4cb823bf"
      },
      "source": [
        "count_zeros = 0;\n",
        "for i in weight_sum:\n",
        "  if i==0:\n",
        "    count_zeros += 1\n",
        "print (\"Total No of features being discarded: \", count_zeros)"
      ],
      "execution_count": 40,
      "outputs": [
        {
          "output_type": "stream",
          "text": [
            "Total No of features being discarded:  249\n"
          ],
          "name": "stdout"
        }
      ]
    }
  ]
}