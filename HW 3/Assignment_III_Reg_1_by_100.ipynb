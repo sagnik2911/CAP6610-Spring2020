{
  "nbformat": 4,
  "nbformat_minor": 0,
  "metadata": {
    "colab": {
      "name": "Assignment III Reg 1 by 100.ipynb",
      "provenance": []
    },
    "kernelspec": {
      "name": "python3",
      "display_name": "Python 3"
    }
  },
  "cells": [
    {
      "cell_type": "code",
      "metadata": {
        "id": "yzM0q6cZxRsB",
        "colab_type": "code",
        "colab": {
          "base_uri": "https://localhost:8080/",
          "height": 131
        },
        "outputId": "6be5c137-0ab2-406e-bd3c-9dc3ed8094cc"
      },
      "source": [
        "import tensorflow as tf\n",
        "(x_train, y_train), (x_test, y_test) = tf.keras.datasets.mnist.load_data()\n",
        "#print(x_test.shape)\n",
        "#print(x_train.shape)"
      ],
      "execution_count": 1,
      "outputs": [
        {
          "output_type": "display_data",
          "data": {
            "text/html": [
              "<p style=\"color: red;\">\n",
              "The default version of TensorFlow in Colab will soon switch to TensorFlow 2.x.<br>\n",
              "We recommend you <a href=\"https://www.tensorflow.org/guide/migrate\" target=\"_blank\">upgrade</a> now \n",
              "or ensure your notebook will continue to use TensorFlow 1.x via the <code>%tensorflow_version 1.x</code> magic:\n",
              "<a href=\"https://colab.research.google.com/notebooks/tensorflow_version.ipynb\" target=\"_blank\">more info</a>.</p>\n"
            ],
            "text/plain": [
              "<IPython.core.display.HTML object>"
            ]
          },
          "metadata": {
            "tags": []
          }
        },
        {
          "output_type": "stream",
          "text": [
            "Downloading data from https://storage.googleapis.com/tensorflow/tf-keras-datasets/mnist.npz\n",
            "11493376/11490434 [==============================] - 0s 0us/step\n",
            "(10000, 28, 28)\n",
            "(60000, 28, 28)\n"
          ],
          "name": "stdout"
        }
      ]
    },
    {
      "cell_type": "code",
      "metadata": {
        "id": "3ynCt1WoxZAJ",
        "colab_type": "code",
        "colab": {
          "base_uri": "https://localhost:8080/",
          "height": 265
        },
        "outputId": "2ef5cd1a-b676-49da-85ec-208cff334221"
      },
      "source": [
        "import numpy as np\n",
        "from matplotlib import pyplot as plt\n",
        "%matplotlib inline \n",
        "plt.imshow(x_train[1], interpolation='nearest')\n",
        "plt.show()"
      ],
      "execution_count": 2,
      "outputs": [
        {
          "output_type": "display_data",
          "data": {
            "image/png": "[encoded data removed]",
            "text/plain": [
              "<Figure size 432x288 with 1 Axes>"
            ]
          },
          "metadata": {
            "tags": []
          }
        }
      ]
    },
    {
      "cell_type": "code",
      "metadata": {
        "id": "WhXlrtrfxlKN",
        "colab_type": "code",
        "colab": {
          "base_uri": "https://localhost:8080/",
          "height": 51
        },
        "outputId": "c706970a-997b-4886-c523-8b7c73d60a45"
      },
      "source": [
        "x_train_flat = x_train.reshape(x_train.shape[0], -1)\n",
        "x_train_flat = x_train_flat.astype(float)\n",
        "x_test_flat = x_test.reshape(x_test.shape[0], -1)\n",
        "x_test_flat = x_test_flat.astype(float)\n",
        "mean_image = np.mean(x_train_flat, axis=0)\n",
        "x_train_flat -= mean_image\n",
        "x_test_flat -= mean_image\n",
        "print (\"train_set_x_flatten shape: \" + str(x_train_flat.shape))\n",
        "print (\"test_set_x_flatten shape: \" + str(x_test_flat.shape))"
      ],
      "execution_count": 13,
      "outputs": [
        {
          "output_type": "stream",
          "text": [
            "train_set_x_flatten shape: (60000, 784)\n",
            "test_set_x_flatten shape: (10000, 784)\n"
          ],
          "name": "stdout"
        }
      ]
    },
    {
      "cell_type": "code",
      "metadata": {
        "id": "3QziOyf6xsGl",
        "colab_type": "code",
        "colab": {}
      },
      "source": [
        "dimR = 784\n",
        "dimC = 10\n",
        "W = np.zeros((dimR,dimC))\n",
        "lamda = .01\n",
        "max_iter = 1000000"
      ],
      "execution_count": 0,
      "outputs": []
    },
    {
      "cell_type": "code",
      "metadata": {
        "id": "SxbwTPTwyu1a",
        "colab_type": "code",
        "colab": {}
      },
      "source": [
        "def block_soft_threshold(W,mu):\n",
        "    for i in range(0,W.shape[0]):\n",
        "      l2norm = np.linalg.norm(W[i][:])\n",
        "      if l2norm == 0:\n",
        "        continue;\n",
        "      W[i][:] = np.multiply(W[i][:]/ l2norm,np.maximum(l2norm - mu, 0))\n",
        "    return W"
      ],
      "execution_count": 0,
      "outputs": []
    },
    {
      "cell_type": "code",
      "metadata": {
        "id": "xwJOy5PsyPLR",
        "colab_type": "code",
        "colab": {}
      },
      "source": [
        "def svm_naive(W, X, y, reg,i):\n",
        "    \"\"\"\n",
        "    This function implementation has been taken from the cs231n course of Stanford\n",
        "    The algorithm has been elaborated at the following link\n",
        "    http://cs231n.github.io/optimization-1/\n",
        "    \"\"\"\n",
        "    dW = np.zeros(W.shape) # initialize the gradient as zero\n",
        "\n",
        "    # Compute gradient.\n",
        "    num_classes = W.shape[1]\n",
        "    num_train = X.shape[0]\n",
        "    scores = X[i].dot(W) \n",
        "    correct_class_score = scores[y[i]]\n",
        "\n",
        "    # Iterate over incorrect classes.\n",
        "    for j in range(num_classes):\n",
        "        if j == y[i]:\n",
        "            continue\n",
        "        # If margin is met, accumulate loss for the jth example \n",
        "        # and calculate associated gradient. \n",
        "        margin = scores[j] - correct_class_score + 1 # note delta = 1\n",
        "        if margin > 0:\n",
        "            dW[:,j] += X[i,:]  \n",
        "            dW[:,y[i]] -= X[i,:] \n",
        "    return dW"
      ],
      "execution_count": 0,
      "outputs": []
    },
    {
      "cell_type": "code",
      "metadata": {
        "id": "zpvM7CzTyUAS",
        "colab_type": "code",
        "colab": {}
      },
      "source": [
        "def error_calculate(W):\n",
        "    error = 0\n",
        "    for i in range(0, len(x_test_flat)):\n",
        "        x_i = x_test_flat[i]\n",
        "        max_val = -1\n",
        "        max_i = 10\n",
        "        for digit in range(0,10):\n",
        "            res = np.dot(x_i.T, W[:,digit])\n",
        "            if(res>max_val):\n",
        "                max_val = res\n",
        "                max_i = digit\n",
        "        if(max_i!=y_test[i]):\n",
        "            error+=1\n",
        "    return 100*error/len(x_test_flat)"
      ],
      "execution_count": 0,
      "outputs": []
    },
    {
      "cell_type": "code",
      "metadata": {
        "id": "GMrdnNRQykhF",
        "colab_type": "code",
        "colab": {}
      },
      "source": [
        "y_train = np.array(y_train)\n",
        "y_train_flat = y_train.reshape(y_train.shape[0], -1)\n",
        "data = [[] for y in range(10)]\n",
        "for index in range(0, len(y_train_flat)):\n",
        "  val = y_train_flat[index][0]\n",
        "  data[val].append(index)"
      ],
      "execution_count": 0,
      "outputs": []
    },
    {
      "cell_type": "code",
      "metadata": {
        "id": "A3nqHRY9yogJ",
        "colab_type": "code",
        "colab": {
          "base_uri": "https://localhost:8080/",
          "height": 204
        },
        "outputId": "845af3f1-f3f1-4851-8472-a1883d8a9a48"
      },
      "source": [
        "import random\n",
        "W = np.zeros((dimR,dimC))\n",
        "dW = np.zeros(W.shape)\n",
        "error_PG = []\n",
        "\n",
        "for t in range(1, max_iter+1):\n",
        "    for i in range(0,10):\n",
        "      rand_index = data[i][random.randrange(len(data[i]))]\n",
        "      dW = svm_naive(W,x_train_flat, y_train, 1,rand_index)\n",
        "      W = W - (1/t)* dW\n",
        "    W = block_soft_threshold(W,lamda/t)\n",
        "    if (t%1000 == 0 or t == 1):\n",
        "            error = error_calculate(W)\n",
        "            error_PG.append(error)\n",
        "    if (t%100000 == 0 or t == 1):\n",
        "            print('iter= {},\\errorRate= {:3f}'.format(t,error))\n"
      ],
      "execution_count": 15,
      "outputs": [
        {
          "output_type": "stream",
          "text": [
            "iter= 1,\\errorRate= 61.820000\n",
            "iter= 100000,\\errorRate= 24.240000\n",
            "iter= 200000,\\errorRate= 23.500000\n",
            "iter= 300000,\\errorRate= 23.170000\n",
            "iter= 400000,\\errorRate= 22.890000\n",
            "iter= 500000,\\errorRate= 22.680000\n",
            "iter= 600000,\\errorRate= 22.530000\n",
            "iter= 700000,\\errorRate= 22.400000\n",
            "iter= 800000,\\errorRate= 22.290000\n",
            "iter= 900000,\\errorRate= 22.130000\n",
            "iter= 1000000,\\errorRate= 22.070000\n"
          ],
          "name": "stdout"
        }
      ]
    },
    {
      "cell_type": "code",
      "metadata": {
        "id": "wobylbUr9jGo",
        "colab_type": "code",
        "colab": {
          "base_uri": "https://localhost:8080/",
          "height": 300
        },
        "outputId": "b7a007ff-230b-47df-edcd-e2091de00e6e"
      },
      "source": [
        "t = np.arange(0, 1001)\n",
        "plt.semilogy(t, 100-np.array(error_PG), 'b', linewidth = 1, label = 'Proximal Stochiastic Gradient lambda = .01')\n",
        "plt.legend(prop={'size':12})\n",
        "plt.xlabel('Iteration (10^3)')\n",
        "plt.ylabel('Prediction accuracy percentage')"
      ],
      "execution_count": 21,
      "outputs": [
        {
          "output_type": "execute_result",
          "data": {
            "text/plain": [
              "Text(0, 0.5, 'Prediction accuracy percentage')"
            ]
          },
          "metadata": {
            "tags": []
          },
          "execution_count": 21
        },
        {
          "output_type": "display_data",
          "data": {
            "image/png": "[encoded data removed]",
            "text/plain": [
              "<Figure size 432x288 with 1 Axes>"
            ]
          },
          "metadata": {
            "tags": []
          }
        }
      ]
    },
    {
      "cell_type": "code",
      "metadata": {
        "id": "tU3KxUzs9rNL",
        "colab_type": "code",
        "colab": {
          "base_uri": "https://localhost:8080/",
          "height": 265
        },
        "outputId": "f079b1e9-0033-4dd0-db65-a75afa170701"
      },
      "source": [
        "weight_sum = np.sum(W,axis = 1)/10\n",
        "image = np.reshape(weight_sum,(28,28))\n",
        "plt.imshow(image,cmap = 'gray', interpolation= 'nearest')\n",
        "plt.show()"
      ],
      "execution_count": 24,
      "outputs": [
        {
          "output_type": "display_data",
          "data": {
            "image/png": "[encoded data removed]",
            "text/plain": [
              "<Figure size 432x288 with 1 Axes>"
            ]
          },
          "metadata": {
            "tags": []
          }
        }
      ]
    },
    {
      "cell_type": "code",
      "metadata": {
        "id": "UfRbffZqUSxq",
        "colab_type": "code",
        "colab": {
          "base_uri": "https://localhost:8080/",
          "height": 34
        },
        "outputId": "9e61e80b-3d04-47a5-ed05-ec4a6edc99f2"
      },
      "source": [
        "count_zeros = 0;\n",
        "for i in weight_sum:\n",
        "  if i==0:\n",
        "    count_zeros += 1\n",
        "print (\"Total No of features being discarded: \", count_zeros)"
      ],
      "execution_count": 25,
      "outputs": [
        {
          "output_type": "stream",
          "text": [
            "Total No of features being discarded:  91\n"
          ],
          "name": "stdout"
        }
      ]
    }
  ]
}