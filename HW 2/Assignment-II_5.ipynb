{
  "nbformat": 4,
  "nbformat_minor": 0,
  "metadata": {
    "colab": {
      "name": " Assignment II-5.ipynb ",
      "provenance": [],
      "collapsed_sections": []
    },
    "kernelspec": {
      "name": "python3",
      "display_name": "Python 3"
    }
  },
  "cells": [
    {
      "cell_type": "markdown",
      "metadata": {
        "id": "NaTE1HAfjaA4",
        "colab_type": "text"
      },
      "source": [
        "We test the performance of three classification methods on the ionosphere data\n",
        "set https://archive.ics.uci.edu/ml/datasets/ionosphere. There are 351 samples. We\n",
        "use the first 300 samples for training, and the last 51 samples for testing. The goal is to build\n",
        "a linear model of the 34 features (together with a constant term) to predict the binary (±1)\n",
        "outcome. All models are trained by solving the following optimization problem.\n",
        "\n",
        "$$\n",
        "\\begin{equation*}\n",
        "\\begin{aligned}\n",
        "\\underset{w,\\beta}{\\text{minimize}}\n",
        "\\sum_{i=1}^{n} l(x_i^{T}w+\\beta , y_i)\n",
        "\\end{aligned}\n",
        "\\end{equation*}$$\n",
        "where the loss functions are\n",
        "\n",
        "• least squares loss $ l(t) = (t-y)^{2} $\n",
        "\n",
        "• logistic loss $ l(t,y) = log(1+exp(-yt)) $\n",
        "\n",
        "• hinge loss $ l(t,y) = max(0,1-yt) $\n"
      ]
    },
    {
      "cell_type": "markdown",
      "metadata": {
        "id": "uc-OyTH4kLZd",
        "colab_type": "text"
      },
      "source": [
        ""
      ]
    },
    {
      "cell_type": "code",
      "metadata": {
        "id": "6ZlozDIFi5wp",
        "colab_type": "code",
        "colab": {
          "base_uri": "https://localhost:8080/",
          "height": 224
        },
        "outputId": "930a4551-f311-4615-c3e6-e0ec4121a24f"
      },
      "source": [
        "# importing libraries and reading data from file\n",
        "import pandas as pnd\n",
        "import numpy as nmp\n",
        "columnnames = []\n",
        "for c in range (0,35):\n",
        "  columnnames.append('col'+str(c))\n",
        "#columnnames\n",
        "dataFile = pnd.read_csv('http://archive.ics.uci.edu/ml/machine-learning-databases/ionosphere/ionosphere.data', sep = ',',names=columnnames, header=None)\n",
        "dataFile.shape\n",
        "dataFile.head()"
      ],
      "execution_count": 2,
      "outputs": [
        {
          "output_type": "execute_result",
          "data": {
            "text/html": [
              "<div>\n",
              "<style scoped>\n",
              "    .dataframe tbody tr th:only-of-type {\n",
              "        vertical-align: middle;\n",
              "    }\n",
              "\n",
              "    .dataframe tbody tr th {\n",
              "        vertical-align: top;\n",
              "    }\n",
              "\n",
              "    .dataframe thead th {\n",
              "        text-align: right;\n",
              "    }\n",
              "</style>\n",
              "<table border=\"1\" class=\"dataframe\">\n",
              "  <thead>\n",
              "    <tr style=\"text-align: right;\">\n",
              "      <th></th>\n",
              "      <th>col0</th>\n",
              "      <th>col1</th>\n",
              "      <th>col2</th>\n",
              "      <th>col3</th>\n",
              "      <th>col4</th>\n",
              "      <th>col5</th>\n",
              "      <th>col6</th>\n",
              "      <th>col7</th>\n",
              "      <th>col8</th>\n",
              "      <th>col9</th>\n",
              "      <th>col10</th>\n",
              "      <th>col11</th>\n",
              "      <th>col12</th>\n",
              "      <th>col13</th>\n",
              "      <th>col14</th>\n",
              "      <th>col15</th>\n",
              "      <th>col16</th>\n",
              "      <th>col17</th>\n",
              "      <th>col18</th>\n",
              "      <th>col19</th>\n",
              "      <th>col20</th>\n",
              "      <th>col21</th>\n",
              "      <th>col22</th>\n",
              "      <th>col23</th>\n",
              "      <th>col24</th>\n",
              "      <th>col25</th>\n",
              "      <th>col26</th>\n",
              "      <th>col27</th>\n",
              "      <th>col28</th>\n",
              "      <th>col29</th>\n",
              "      <th>col30</th>\n",
              "      <th>col31</th>\n",
              "      <th>col32</th>\n",
              "      <th>col33</th>\n",
              "      <th>col34</th>\n",
              "    </tr>\n",
              "  </thead>\n",
              "  <tbody>\n",
              "    <tr>\n",
              "      <th>0</th>\n",
              "      <td>1</td>\n",
              "      <td>0</td>\n",
              "      <td>0.99539</td>\n",
              "      <td>-0.05889</td>\n",
              "      <td>0.85243</td>\n",
              "      <td>0.02306</td>\n",
              "      <td>0.83398</td>\n",
              "      <td>-0.37708</td>\n",
              "      <td>1.00000</td>\n",
              "      <td>0.03760</td>\n",
              "      <td>0.85243</td>\n",
              "      <td>-0.17755</td>\n",
              "      <td>0.59755</td>\n",
              "      <td>-0.44945</td>\n",
              "      <td>0.60536</td>\n",
              "      <td>-0.38223</td>\n",
              "      <td>0.84356</td>\n",
              "      <td>-0.38542</td>\n",
              "      <td>0.58212</td>\n",
              "      <td>-0.32192</td>\n",
              "      <td>0.56971</td>\n",
              "      <td>-0.29674</td>\n",
              "      <td>0.36946</td>\n",
              "      <td>-0.47357</td>\n",
              "      <td>0.56811</td>\n",
              "      <td>-0.51171</td>\n",
              "      <td>0.41078</td>\n",
              "      <td>-0.46168</td>\n",
              "      <td>0.21266</td>\n",
              "      <td>-0.34090</td>\n",
              "      <td>0.42267</td>\n",
              "      <td>-0.54487</td>\n",
              "      <td>0.18641</td>\n",
              "      <td>-0.45300</td>\n",
              "      <td>g</td>\n",
              "    </tr>\n",
              "    <tr>\n",
              "      <th>1</th>\n",
              "      <td>1</td>\n",
              "      <td>0</td>\n",
              "      <td>1.00000</td>\n",
              "      <td>-0.18829</td>\n",
              "      <td>0.93035</td>\n",
              "      <td>-0.36156</td>\n",
              "      <td>-0.10868</td>\n",
              "      <td>-0.93597</td>\n",
              "      <td>1.00000</td>\n",
              "      <td>-0.04549</td>\n",
              "      <td>0.50874</td>\n",
              "      <td>-0.67743</td>\n",
              "      <td>0.34432</td>\n",
              "      <td>-0.69707</td>\n",
              "      <td>-0.51685</td>\n",
              "      <td>-0.97515</td>\n",
              "      <td>0.05499</td>\n",
              "      <td>-0.62237</td>\n",
              "      <td>0.33109</td>\n",
              "      <td>-1.00000</td>\n",
              "      <td>-0.13151</td>\n",
              "      <td>-0.45300</td>\n",
              "      <td>-0.18056</td>\n",
              "      <td>-0.35734</td>\n",
              "      <td>-0.20332</td>\n",
              "      <td>-0.26569</td>\n",
              "      <td>-0.20468</td>\n",
              "      <td>-0.18401</td>\n",
              "      <td>-0.19040</td>\n",
              "      <td>-0.11593</td>\n",
              "      <td>-0.16626</td>\n",
              "      <td>-0.06288</td>\n",
              "      <td>-0.13738</td>\n",
              "      <td>-0.02447</td>\n",
              "      <td>b</td>\n",
              "    </tr>\n",
              "    <tr>\n",
              "      <th>2</th>\n",
              "      <td>1</td>\n",
              "      <td>0</td>\n",
              "      <td>1.00000</td>\n",
              "      <td>-0.03365</td>\n",
              "      <td>1.00000</td>\n",
              "      <td>0.00485</td>\n",
              "      <td>1.00000</td>\n",
              "      <td>-0.12062</td>\n",
              "      <td>0.88965</td>\n",
              "      <td>0.01198</td>\n",
              "      <td>0.73082</td>\n",
              "      <td>0.05346</td>\n",
              "      <td>0.85443</td>\n",
              "      <td>0.00827</td>\n",
              "      <td>0.54591</td>\n",
              "      <td>0.00299</td>\n",
              "      <td>0.83775</td>\n",
              "      <td>-0.13644</td>\n",
              "      <td>0.75535</td>\n",
              "      <td>-0.08540</td>\n",
              "      <td>0.70887</td>\n",
              "      <td>-0.27502</td>\n",
              "      <td>0.43385</td>\n",
              "      <td>-0.12062</td>\n",
              "      <td>0.57528</td>\n",
              "      <td>-0.40220</td>\n",
              "      <td>0.58984</td>\n",
              "      <td>-0.22145</td>\n",
              "      <td>0.43100</td>\n",
              "      <td>-0.17365</td>\n",
              "      <td>0.60436</td>\n",
              "      <td>-0.24180</td>\n",
              "      <td>0.56045</td>\n",
              "      <td>-0.38238</td>\n",
              "      <td>g</td>\n",
              "    </tr>\n",
              "    <tr>\n",
              "      <th>3</th>\n",
              "      <td>1</td>\n",
              "      <td>0</td>\n",
              "      <td>1.00000</td>\n",
              "      <td>-0.45161</td>\n",
              "      <td>1.00000</td>\n",
              "      <td>1.00000</td>\n",
              "      <td>0.71216</td>\n",
              "      <td>-1.00000</td>\n",
              "      <td>0.00000</td>\n",
              "      <td>0.00000</td>\n",
              "      <td>0.00000</td>\n",
              "      <td>0.00000</td>\n",
              "      <td>0.00000</td>\n",
              "      <td>0.00000</td>\n",
              "      <td>-1.00000</td>\n",
              "      <td>0.14516</td>\n",
              "      <td>0.54094</td>\n",
              "      <td>-0.39330</td>\n",
              "      <td>-1.00000</td>\n",
              "      <td>-0.54467</td>\n",
              "      <td>-0.69975</td>\n",
              "      <td>1.00000</td>\n",
              "      <td>0.00000</td>\n",
              "      <td>0.00000</td>\n",
              "      <td>1.00000</td>\n",
              "      <td>0.90695</td>\n",
              "      <td>0.51613</td>\n",
              "      <td>1.00000</td>\n",
              "      <td>1.00000</td>\n",
              "      <td>-0.20099</td>\n",
              "      <td>0.25682</td>\n",
              "      <td>1.00000</td>\n",
              "      <td>-0.32382</td>\n",
              "      <td>1.00000</td>\n",
              "      <td>b</td>\n",
              "    </tr>\n",
              "    <tr>\n",
              "      <th>4</th>\n",
              "      <td>1</td>\n",
              "      <td>0</td>\n",
              "      <td>1.00000</td>\n",
              "      <td>-0.02401</td>\n",
              "      <td>0.94140</td>\n",
              "      <td>0.06531</td>\n",
              "      <td>0.92106</td>\n",
              "      <td>-0.23255</td>\n",
              "      <td>0.77152</td>\n",
              "      <td>-0.16399</td>\n",
              "      <td>0.52798</td>\n",
              "      <td>-0.20275</td>\n",
              "      <td>0.56409</td>\n",
              "      <td>-0.00712</td>\n",
              "      <td>0.34395</td>\n",
              "      <td>-0.27457</td>\n",
              "      <td>0.52940</td>\n",
              "      <td>-0.21780</td>\n",
              "      <td>0.45107</td>\n",
              "      <td>-0.17813</td>\n",
              "      <td>0.05982</td>\n",
              "      <td>-0.35575</td>\n",
              "      <td>0.02309</td>\n",
              "      <td>-0.52879</td>\n",
              "      <td>0.03286</td>\n",
              "      <td>-0.65158</td>\n",
              "      <td>0.13290</td>\n",
              "      <td>-0.53206</td>\n",
              "      <td>0.02431</td>\n",
              "      <td>-0.62197</td>\n",
              "      <td>-0.05707</td>\n",
              "      <td>-0.59573</td>\n",
              "      <td>-0.04608</td>\n",
              "      <td>-0.65697</td>\n",
              "      <td>g</td>\n",
              "    </tr>\n",
              "  </tbody>\n",
              "</table>\n",
              "</div>"
            ],
            "text/plain": [
              "   col0  col1     col2     col3  ...    col31    col32    col33  col34\n",
              "0     1     0  0.99539 -0.05889  ... -0.54487  0.18641 -0.45300      g\n",
              "1     1     0  1.00000 -0.18829  ... -0.06288 -0.13738 -0.02447      b\n",
              "2     1     0  1.00000 -0.03365  ... -0.24180  0.56045 -0.38238      g\n",
              "3     1     0  1.00000 -0.45161  ...  1.00000 -0.32382  1.00000      b\n",
              "4     1     0  1.00000 -0.02401  ... -0.59573 -0.04608 -0.65697      g\n",
              "\n",
              "[5 rows x 35 columns]"
            ]
          },
          "metadata": {
            "tags": []
          },
          "execution_count": 2
        }
      ]
    },
    {
      "cell_type": "code",
      "metadata": {
        "id": "2SYy1hX-1MkG",
        "colab_type": "code",
        "colab": {}
      },
      "source": [
        "from sklearn.model_selection import train_test_split\n",
        "X_features = dataFile[columnnames[0:34]].values\n",
        "y = dataFile[columnnames[34]].values\n",
        "#The data sample of 351 records being split into train set(300) and test set(51)\n",
        "X_train, X_test, y_train, y_test = train_test_split(X_features, y, test_size=0.143, random_state=42, shuffle = False)\n",
        "#assigning 0 for label 'b' and 1 for label 'g'\n",
        "for i in range(len(y_train)):\n",
        "  if(y_train[i] == 'g'):\n",
        "    y_train[i] = 1\n",
        "  else:\n",
        "    y_train[i] = -1\n",
        "for i in range(len(y_test)):\n",
        "  if(y_test[i] == 'g'):\n",
        "    y_test[i] = 1\n",
        "  else:\n",
        "    y_test[i] = -1"
      ],
      "execution_count": 0,
      "outputs": []
    },
    {
      "cell_type": "code",
      "metadata": {
        "id": "tWxL9Ol7lnoE",
        "colab_type": "code",
        "colab": {}
      },
      "source": [
        "#Applying Linear regression to fit least square and using the same to predict test data\n",
        "from sklearn.linear_model import LinearRegression\n",
        "reg = LinearRegression().fit(X_train,y_train) \n",
        "y_prediction = reg.predict(X_test)"
      ],
      "execution_count": 0,
      "outputs": []
    },
    {
      "cell_type": "code",
      "metadata": {
        "id": "ZWbOF0dJoON-",
        "colab_type": "code",
        "colab": {
          "base_uri": "https://localhost:8080/",
          "height": 34
        },
        "outputId": "dc2fb4db-d5a2-4860-e6ab-b9015be18ade"
      },
      "source": [
        "#Calculating accuracy rate\n",
        "error = 0\n",
        "for i in range (0,51):\n",
        "  y_prediction[i] = 1 if y_prediction[i] > 0 else -1\n",
        "  if(y_test[i] != y_prediction[i]):\n",
        "    error += 1\n",
        "\n",
        "error /= .51\n",
        "print('Accuracy Rate: '+ str(100-error))"
      ],
      "execution_count": 42,
      "outputs": [
        {
          "output_type": "stream",
          "text": [
            "Accuracy Rate: 100.0\n"
          ],
          "name": "stdout"
        }
      ]
    },
    {
      "cell_type": "code",
      "metadata": {
        "id": "GA8QHTjKtE3W",
        "colab_type": "code",
        "colab": {
          "base_uri": "https://localhost:8080/",
          "height": 34
        },
        "outputId": "12fca994-7de4-4137-8d9a-45dff59a8227"
      },
      "source": [
        "#Applying Dead-zone linear loss in Convex Optimization form for building the model and using the same to predict test data \n",
        "import cvxpy as cp\n",
        "#Generating weight vector of length 34, as there are 34 features \n",
        "weight = cp.Variable((34,1))\n",
        "b = cp.Variable(1)\n",
        "cost = cp.maximum(0,(1 - y_train@(X_train@weight + b)))\n",
        "obj = cp.sum(cost)\n",
        "prob = cp.Problem(cp.Minimize(obj))\n",
        "prob.solve(solver=cp.ECOS)"
      ],
      "execution_count": 81,
      "outputs": [
        {
          "output_type": "execute_result",
          "data": {
            "text/plain": [
              "4.2481105734661005e-13"
            ]
          },
          "metadata": {
            "tags": []
          },
          "execution_count": 81
        }
      ]
    },
    {
      "cell_type": "code",
      "metadata": {
        "id": "jvyJeQdBxPnO",
        "colab_type": "code",
        "colab": {
          "base_uri": "https://localhost:8080/",
          "height": 34
        },
        "outputId": "f922a89d-4adb-45cd-d431-e7ced2a754b8"
      },
      "source": [
        "# testing the model\n",
        "y_prediction = nmp.dot(X_test , weight.value) + b.value\n",
        "#Calculating accuracy rate\n",
        "error = 0\n",
        "for i in range (0,51):\n",
        "  y_prediction[i] = 1 if y_prediction[i] > 0 else -1\n",
        "  if(y_test[i] != y_prediction[i]):\n",
        "    error += 1\n",
        "\n",
        "error /= .51\n",
        "print('Accuracy Rate: '+ str(100-error))\n"
      ],
      "execution_count": 82,
      "outputs": [
        {
          "output_type": "stream",
          "text": [
            "Accuracy Rate: 74.50980392156863\n"
          ],
          "name": "stdout"
        }
      ]
    },
    {
      "cell_type": "code",
      "metadata": {
        "id": "MGjkVHRf3YRI",
        "colab_type": "code",
        "colab": {
          "base_uri": "https://localhost:8080/",
          "height": 34
        },
        "outputId": "72480454-3b26-43b1-a8ce-5316e5570a41"
      },
      "source": [
        "#Applying logistic loss in Convex Optimization form for building the model and using the same to predict test data \n",
        "import cvxpy as cp\n",
        "#Generating weight vector of length 34, as there are 34 features \n",
        "weight = cp.Variable((34,1))\n",
        "b = cp.Variable(1)\n",
        "cost = cp.logistic(-y_train@(X_train@weight + b))\n",
        "obj = cp.sum(cost)\n",
        "prob = cp.Problem(cp.Minimize(obj))\n",
        "prob.solve(solver=cp.ECOS)"
      ],
      "execution_count": 76,
      "outputs": [
        {
          "output_type": "execute_result",
          "data": {
            "text/plain": [
              "-8.396351001675265e-09"
            ]
          },
          "metadata": {
            "tags": []
          },
          "execution_count": 76
        }
      ]
    },
    {
      "cell_type": "code",
      "metadata": {
        "id": "69wrlwHZ58AL",
        "colab_type": "code",
        "colab": {
          "base_uri": "https://localhost:8080/",
          "height": 34
        },
        "outputId": "5b11847e-2abf-4051-dbfa-799523a9bddd"
      },
      "source": [
        "# testing the model\n",
        "y_prediction = nmp.dot(X_test , weight.value) + b.value\n",
        "#Calculating accuracy rate\n",
        "error = 0\n",
        "for i in range (0,51):\n",
        "  y_prediction[i] = 1 if y_prediction[i] > 0 else -1\n",
        "  if(y_test[i] != y_prediction[i]):\n",
        "    error += 1\n",
        "#print(error)\n",
        "error /= .51\n",
        "print('Accuracy Rate: '+ str(100-error))\n"
      ],
      "execution_count": 85,
      "outputs": [
        {
          "output_type": "stream",
          "text": [
            "Accuracy Rate: 74.50980392156863\n"
          ],
          "name": "stdout"
        }
      ]
    },
    {
      "cell_type": "markdown",
      "metadata": {
        "id": "r1hUGzwb8h71",
        "colab_type": "text"
      },
      "source": [
        "We see both the logistic loss and hinge loss performs exactly similar. They give prediction accuracy of 74.5%. Whereas, least square beats them all, with 100% accuracy."
      ]
    }
  ]
}